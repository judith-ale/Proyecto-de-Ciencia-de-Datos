{
 "cells": [
  {
   "cell_type": "markdown",
   "metadata": {},
   "source": [
    "# Data Wrangling"
   ]
  },
  {
   "cell_type": "markdown",
   "metadata": {},
   "source": [
    "## Importación de librerias y definición de rutas"
   ]
  },
  {
   "cell_type": "code",
   "execution_count": 49,
   "metadata": {},
   "outputs": [],
   "source": [
    "import os\n",
    "import shutil\n",
    "import random\n",
    "from imutils import paths\n",
    "from sklearn.model_selection import train_test_split\n",
    "import numpy as np\n",
    "\n",
    "original_dataset_dir = '../Data/Raw Data'\n",
    "base_dir = '../Data/Clean Data'\n",
    "\n",
    "train_path = os.path.join(base_dir, 'train')\n",
    "test_path = os.path.join(base_dir, 'test')\n",
    "validation_path = os.path.join(base_dir, 'validation')"
   ]
  },
  {
   "cell_type": "code",
   "execution_count": 50,
   "metadata": {},
   "outputs": [],
   "source": [
    "# Creamos los directorios train, test y validation en el directorio Clean Data\n",
    "os.makedirs(train_path, exist_ok=True)\n",
    "os.makedirs(test_path, exist_ok=True)\n",
    "os.makedirs(validation_path, exist_ok=True)"
   ]
  },
  {
   "cell_type": "markdown",
   "metadata": {},
   "source": [
    "## Creación de arreglo con las rutas actuales"
   ]
  },
  {
   "cell_type": "code",
   "execution_count": 51,
   "metadata": {},
   "outputs": [],
   "source": [
    "def reorganizar(path): \n",
    "  return path, path.split(os.path.sep)[-2]"
   ]
  },
  {
   "cell_type": "code",
   "execution_count": 52,
   "metadata": {},
   "outputs": [],
   "source": [
    "data = np.array(list(map(reorganizar, paths.list_images(original_dataset_dir))))"
   ]
  },
  {
   "cell_type": "markdown",
   "metadata": {},
   "source": [
    "## División de datos\n",
    "Se separan las imágenes en tres directorios: `train` (70% de las imágenes), `validation` (20%) y `test`(10%).\n",
    "\n",
    "Esto para tener las imágenes separadas para el posterior entrenamiento y evaluación.\n",
    "\n",
    "La separación se hace estratificando las imágenes de acuerdo a la letra a la que pertenecen para tener un balance en las clases a la hora de entrenar."
   ]
  },
  {
   "cell_type": "code",
   "execution_count": 53,
   "metadata": {},
   "outputs": [],
   "source": [
    "data_train, data_test = train_test_split(data, test_size=0.30, random_state=42, stratify=data[:, 1])\n",
    "data_validation, data_test = train_test_split(data_test, test_size=0.3333, random_state=42, stratify=data_test[:, 1])"
   ]
  },
  {
   "cell_type": "markdown",
   "metadata": {},
   "source": [
    "Se puede ver que hay la misma cantidad para cada letra en cada uno de los datasets"
   ]
  },
  {
   "cell_type": "code",
   "execution_count": 54,
   "metadata": {},
   "outputs": [
    {
     "data": {
      "text/plain": [
       "(array(['a', 'b', 'c', 'd', 'e', 'f', 'g', 'h', 'i', 'l', 'm', 'n', 'o',\n",
       "        'p', 'r', 's', 't', 'u', 'v', 'w', 'y'], dtype='<U57'),\n",
       " array([210, 210, 210, 210, 210, 210, 210, 210, 210, 210, 210, 210, 210,\n",
       "        210, 210, 210, 210, 210, 210, 210, 210], dtype=int64))"
      ]
     },
     "execution_count": 54,
     "metadata": {},
     "output_type": "execute_result"
    }
   ],
   "source": [
    "np.unique(data_train[:, 1], return_counts=True)"
   ]
  },
  {
   "cell_type": "code",
   "execution_count": 55,
   "metadata": {},
   "outputs": [
    {
     "data": {
      "text/plain": [
       "(array(['a', 'b', 'c', 'd', 'e', 'f', 'g', 'h', 'i', 'l', 'm', 'n', 'o',\n",
       "        'p', 'r', 's', 't', 'u', 'v', 'w', 'y'], dtype='<U57'),\n",
       " array([60, 60, 60, 60, 60, 60, 60, 60, 60, 60, 60, 60, 60, 60, 60, 60, 60,\n",
       "        60, 60, 60, 60], dtype=int64))"
      ]
     },
     "execution_count": 55,
     "metadata": {},
     "output_type": "execute_result"
    }
   ],
   "source": [
    "np.unique(data_validation[:, 1], return_counts=True)"
   ]
  },
  {
   "cell_type": "code",
   "execution_count": 56,
   "metadata": {},
   "outputs": [
    {
     "data": {
      "text/plain": [
       "(array(['a', 'b', 'c', 'd', 'e', 'f', 'g', 'h', 'i', 'l', 'm', 'n', 'o',\n",
       "        'p', 'r', 's', 't', 'u', 'v', 'w', 'y'], dtype='<U57'),\n",
       " array([30, 30, 30, 30, 30, 30, 30, 30, 30, 30, 30, 30, 30, 30, 30, 30, 30,\n",
       "        30, 30, 30, 30], dtype=int64))"
      ]
     },
     "execution_count": 56,
     "metadata": {},
     "output_type": "execute_result"
    }
   ],
   "source": [
    "np.unique(data_test[:, 1], return_counts=True)"
   ]
  },
  {
   "cell_type": "markdown",
   "metadata": {},
   "source": [
    "## Exportación de las imágenes al directorio correspondiente\n",
    "Se crean los directorios para cada letra dentro de cada directorio: `train`, `validation` y `test`."
   ]
  },
  {
   "cell_type": "code",
   "execution_count": 69,
   "metadata": {},
   "outputs": [],
   "source": [
    "for letra in np.unique(data[:, 1]):\n",
    "    os.makedirs(os.path.join(train_path, letra), exist_ok=True)\n",
    "    os.makedirs(os.path.join(test_path, letra), exist_ok=True)\n",
    "    os.makedirs(os.path.join(validation_path, letra), exist_ok=True)"
   ]
  },
  {
   "cell_type": "markdown",
   "metadata": {},
   "source": [
    "La siguiente función copia la imagen de su ruta original a la ruta correspondiente."
   ]
  },
  {
   "cell_type": "code",
   "execution_count": 70,
   "metadata": {},
   "outputs": [],
   "source": [
    "def map_img(data, path_dir):\n",
    "    for img in data:\n",
    "        dst = os.path.join(path_dir, *img[0].split(os.path.sep)[-2:])\n",
    "        shutil.copy(img[0], dst)"
   ]
  },
  {
   "cell_type": "markdown",
   "metadata": {},
   "source": [
    "Esta función se utiliza para copiar las imágenes a los directorios `train`, `validation` y `test`."
   ]
  },
  {
   "cell_type": "code",
   "execution_count": 71,
   "metadata": {},
   "outputs": [],
   "source": [
    "map_img(data_train, train_path)"
   ]
  },
  {
   "cell_type": "code",
   "execution_count": 72,
   "metadata": {},
   "outputs": [],
   "source": [
    "map_img(data_test, test_path)"
   ]
  },
  {
   "cell_type": "code",
   "execution_count": 73,
   "metadata": {},
   "outputs": [],
   "source": [
    "map_img(data_validation, validation_path)"
   ]
  }
 ],
 "metadata": {
  "kernelspec": {
   "display_name": "Python 3 (ipykernel)",
   "language": "python",
   "name": "python3"
  },
  "language_info": {
   "codemirror_mode": {
    "name": "ipython",
    "version": 3
   },
   "file_extension": ".py",
   "mimetype": "text/x-python",
   "name": "python",
   "nbconvert_exporter": "python",
   "pygments_lexer": "ipython3",
   "version": "3.9.6"
  }
 },
 "nbformat": 4,
 "nbformat_minor": 4
}
