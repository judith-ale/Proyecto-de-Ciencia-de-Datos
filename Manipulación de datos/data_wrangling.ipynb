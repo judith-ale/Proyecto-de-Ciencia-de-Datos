{
 "cells": [
  {
   "cell_type": "markdown",
   "metadata": {},
   "source": [
    "# Data Wrangling\n",
    "\n",
    "Se separan las imágenes en tres directorios: `train` (70% de las imágenes), `validation` (20%) y `validation` (10%).\n",
    "\n",
    "Esto para tener las imágenes separadas para su posterior entrenamiento."
   ]
  },
  {
   "cell_type": "code",
   "execution_count": null,
   "metadata": {
    "collapsed": true
   },
   "outputs": [],
   "source": [
    "import os\n",
    "import shutil\n",
    "import random\n",
    "\n",
    "original_dataset_dir = '../Data/Raw Data'\n",
    "base_dir = '../Data/Clean Data'\n",
    "\n",
    "os.makedirs(os.path.join(base_dir, 'train'), exist_ok=True)\n",
    "os.makedirs(os.path.join(base_dir, 'test'), exist_ok=True)\n",
    "os.makedirs(os.path.join(base_dir, 'validation'), exist_ok=True)\n",
    "\n",
    "\n",
    "train_ratio = 0.7\n",
    "test_ratio = 0.10\n",
    "validation_ratio = 0.20\n",
    "\n",
    "\n",
    "classes = os.listdir(original_dataset_dir)\n",
    "\n",
    "for class_name in classes:\n",
    "    class_dir = os.path.join(original_dataset_dir, class_name)\n",
    "    files = os.listdir(class_dir)\n",
    "\n",
    "    random.shuffle(files)\n",
    "\n",
    "    train_split = int(train_ratio * len(files))\n",
    "    test_split = train_split + int(test_ratio * len(files))\n",
    "\n",
    "\n",
    "    train_dir = os.path.join(base_dir, 'train', class_name)\n",
    "    os.makedirs(train_dir, exist_ok=True)\n",
    "\n",
    "    test_dir = os.path.join(base_dir, 'test', class_name)\n",
    "    os.makedirs(test_dir, exist_ok=True)\n",
    "\n",
    "    validation_dir = os.path.join(base_dir, 'validation', class_name)\n",
    "    os.makedirs(validation_dir, exist_ok=True)\n",
    "\n",
    "\n",
    "    for i, file in enumerate(files):\n",
    "        src = os.path.join(class_dir, file)\n",
    "        if i < train_split:\n",
    "            dst = os.path.join(train_dir, file)\n",
    "        elif i < test_split:\n",
    "            dst = os.path.join(test_dir, file)\n",
    "        else:\n",
    "            dst = os.path.join(validation_dir, file)\n",
    "        shutil.copy(src, dst)\n"
   ]
  }
 ],
 "metadata": {
  "kernelspec": {
   "display_name": "Python 3",
   "language": "python",
   "name": "python3"
  },
  "language_info": {
   "codemirror_mode": {
    "name": "ipython",
    "version": 2
   },
   "file_extension": ".py",
   "mimetype": "text/x-python",
   "name": "python",
   "nbconvert_exporter": "python",
   "pygments_lexer": "ipython2",
   "version": "3.9.6"
  }
 },
 "nbformat": 4,
 "nbformat_minor": 0
}
