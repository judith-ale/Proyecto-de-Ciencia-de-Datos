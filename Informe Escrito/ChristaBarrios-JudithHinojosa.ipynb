{
 "cells": [
  {
   "cell_type": "markdown",
   "metadata": {},
   "source": [
    "![Alt Text](https://oci02.img.iteso.mx/Identidades-De-Instancia/ITESO/Logos%20ITESO/Logo-ITESO-Principal.jpg)\n",
    "\n",
    "# Reconocimiento del abecedario en Lengua de Señas Mexicana mediante Redes Neuronales\n",
    "\n",
    "**Integrantes**\n",
    "- Judith Alejandra Hinojosa Rábago\n",
    "- Christa Itzel Barrios Martinez\n",
    "\n",
    "\n",
    "## Introducción:\n",
    "\n",
    "El proyecto \"Reconocimiento del abecedario en Lengua de Señas Mexicana mediante Redes Neuronales\" tiene como objetivo utilizar la ciencia de datos y las redes neuronales para abordar un problema crucial en el campo de la comunicación y accesibilidad. La lengua de señas es una forma vital de comunicación para las personas sordas, y garantizar su reconocimiento y comprensión es esencial para facilitar la inclusión y la igualdad de oportunidades. El reconocimiento automático del abecedario en Lengua de Señas Mexicana a través de redes neuronales puede revolucionar la forma en que las personas sordas interactúan con el mundo digital y mejorar su calidad de vida.\n",
    "\n",
    "\n",
    "![Alt Text](https://chihuahua.gob.mx/sites/default/atach2/lenguaje_de_senas.png)\n",
    "\n",
    "## Antecedentes:\n",
    "\n",
    "En esta sección, se proporciona información contextual relevante para el proyecto. La lengua de señas es un lenguaje visual-gestual utilizado por la comunidad sorda para comunicarse. Aunque existen aplicaciones y dispositivos que facilitan la comunicación en lengua de señas, la automatización del reconocimiento del abecedario puede hacer que esta forma de comunicación sea más accesible y eficiente. Existen investigaciones previas sobre el reconocimiento de gestos y lengua de señas utilizando técnicas de procesamiento de imágenes y aprendizaje profundo. Sin embargo, el enfoque específico en la Lengua de Señas Mexicana y el abecedario requiere un estudio y desarrollo detallado.\n",
    "\n",
    "La lengua de señas mexicana es una forma vital de comunicación utilizada por las personas sordas en México. Se basa en movimientos y gestos de las manos, los brazos y las expresiones faciales para transmitir significado. Cada país tiene su propia lengua de señas, y la lengua de señas mexicana tiene su propia gramática y vocabulario específicos.\n",
    "\n",
    "Se encontró que de parte del Instituto Tecnológico Superior de Misantla se realizo una investigación para generar traducción del lenguaje de señas usando visión por computadora realizando el análisis de redes neuronales multicapa y SVM para el reconocimiento de señas. El set de datos que se uso en este proyecto es elmmismo que se estara utilizando a para nuestro proyecto, el cual consiste en 21 señas estaticas con 300 imágenes cada uno, dando un total de 6300 imágenes totales.\n",
    "\n",
    "Otro traductor de señas mexicano fue el desarrollado en el Centro de Investigación y de Estudios Avanzados del Instituto Politecnico Nacional por el Ing. Gil Alberto Díaz Balderas en el que se propone un conjunto de datos conformado solo por ́angulos  que  ayudan  a  detectar  las  posiciones  de  las  falanges  de  los  dedos de la mano derecha cuando una seña del alfabeto del lenguaje mexicano de señas. El conjunto se redujo a 51 características las cuales fueron utilizadas para entrenar una red neuronal tipo perceptrón multicapa que pudiera reconocer las 21 señas estáticas del alfabeto del lenguaje mexicano de señas.\n",
    "\n",
    "## Objetivos:\n",
    "\n",
    "### Objetivos Generales:\n",
    "\n",
    "El objetivo general de este proyecto es aplicar los conceptos de ciencia de datos y MLOPS (Machine Learning Operations) para desarrollar un sistema de reconocimiento automático del abecedario estático en Lengua de Señas Mexicana. Se espera que este sistema sea en una herramienta útil y accesible para las personas sordas, facilitando la comunicación en un entorno digital y contribuyendo a su inclusión social.\n",
    "\n",
    "### Objetivos Específicos:\n",
    "\n",
    "1. Realizar un análisis exploratorio de datos de gestos en Lengua de Señas Mexicana, recopilando un conjunto de datos representativo.\n",
    "\n",
    "2. Preprocesar y segmentar los datos para obtener características relevantes de los gestos del abecedario.\n",
    "\n",
    "3. Entrenar un modelo de redes neuronales convolucionales (CNN) capaz de reconocer y clasificar los gestos del abecedario en Lengua de Señas Mexicana.\n",
    "\n",
    "4. Crear experimentos con distintos modelos y seleccionar el mejor basado en la metrica accuracy\n",
    "\n",
    "5. Conteneirizar el servicio de reconocimiento para garantizar su escalabilidad y eficiencia.\n",
    "\n",
    "6. Desplegar el sistema en la nube para que esté disponible de manera global.\n",
    "\n",
    "## Planteamiento del problema:\n",
    "\n",
    "El problema central que abordamos es la dificultad que enfrentan las personas sordas señantes al interactuar con otras personas oyentes o que no tienen conocimiento de la lengua de señas mexicana. La falta de herramientas precisas y accesibles para el reconocimiento del abecedario en Lengua de Señas Mexicana dificulta la comunicación efectiva.\n",
    "\n",
    "Nuestro proyecto busca resolver este problema al desarrollar un sistema de reconocimiento de gestos del abecedario estático mediante redes neuronales.\n",
    "\n",
    "### Descripción de los datos:\n",
    "\n",
    "El conjunto de datos que incluye imágenes que han sido previamente recortadas (de una investigación anterior, donde se utilizaron para realizar su propio modelo de clasificación), concentrándose exclusivamente en la representación visual de la señal en sí misma, estas no fueron etiquetadas. Estas imágenes recortadas se emplearán con un propósito diferente. En este escenario, el objetivo se centra en la predicción de la señal del lenguaje de señas representada en la imagen, sin atender a la tarea de localización de la mano o a ningún otro componente contextual. Este segundo conjunto de datos permitirá la capacitación de modelos destinados a identificar y anticipar las letras y signos del lenguaje de señas mexicano a partir de imágenes aisladas.\n",
    "\n",
    "\n",
    "\n"
   ]
  }
 ],
 "metadata": {
  "kernelspec": {
   "display_name": "Python 3",
   "language": "python",
   "name": "python3"
  },
  "language_info": {
   "codemirror_mode": {
    "name": "ipython",
    "version": 2
   },
   "file_extension": ".py",
   "mimetype": "text/x-python",
   "name": "python",
   "nbconvert_exporter": "python",
   "pygments_lexer": "ipython2",
   "version": "2.7.6"
  }
 },
 "nbformat": 4,
 "nbformat_minor": 0
}
